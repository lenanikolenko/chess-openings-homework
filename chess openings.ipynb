{
 "cells": [
  {
   "cell_type": "markdown",
   "id": "f2b4520f",
   "metadata": {},
   "source": [
    "# Chess openings"
   ]
  },
  {
   "cell_type": "markdown",
   "id": "80e1ca31",
   "metadata": {},
   "source": [
    "*by Lena Nikolenko*"
   ]
  },
  {
   "cell_type": "markdown",
   "id": "d2230f4a",
   "metadata": {},
   "source": [
    "For the opening A54 'Old Indian, Ukrainian Variation, 4.Nf3 (A54)', find 10 nearest vectors (similar openings) for both L1 and L2 distance metrics."
   ]
  },
  {
   "cell_type": "code",
   "execution_count": 1,
   "id": "be203b1b",
   "metadata": {},
   "outputs": [],
   "source": [
    "#Let's import the main modules\n",
    "\n",
    "import pandas as pd\n",
    "import numpy as np\n",
    "from numpy import inf\n",
    "from numpy import array\n",
    "from numpy.linalg import norm\n",
    "from scipy.spatial import distance\n",
    "import matplotlib.pyplot as plt"
   ]
  },
  {
   "cell_type": "code",
   "execution_count": 56,
   "id": "f99d01ca",
   "metadata": {},
   "outputs": [],
   "source": [
    "#Initiate data\n",
    "df=pd.read_csv('chess_openings.csv', index_col=0, header=None)\n",
    "df=pd.DataFrame(df)\n",
    "\n",
    "#For checking later the actual name\n",
    "info=pd.read_csv('debuts.csv', header=0)\n",
    "info=pd.DataFrame(info)"
   ]
  },
  {
   "cell_type": "code",
   "execution_count": 3,
   "id": "c81d0626",
   "metadata": {},
   "outputs": [],
   "source": [
    "#This is opening for which we will find similar openings in our dataset!\n",
    "X = df.loc[['A54']]"
   ]
  },
  {
   "cell_type": "code",
   "execution_count": 4,
   "id": "443f34b8",
   "metadata": {
    "scrolled": true
   },
   "outputs": [],
   "source": [
    "#Let's find the differences between the arrays of all vectors and the 'opening' one\n",
    "diff = df.to_numpy() - X.to_numpy()"
   ]
  },
  {
   "cell_type": "code",
   "execution_count": 85,
   "id": "82b4acc7",
   "metadata": {},
   "outputs": [
    {
     "data": {
      "text/plain": [
       "array([306, 177,  69, 170,  58, 325,  50, 405, 373, 450])"
      ]
     },
     "execution_count": 85,
     "metadata": {},
     "output_type": "execute_result"
    }
   ],
   "source": [
    "#We'll count the l1 norm with Numpy function norm()\n",
    "#Then sort the the vector indices ascending (to find the nearest vector to our X)\n",
    "#And show 10 closest vectors in l1 norm\n",
    "\n",
    "norm_l1 = norm(diff, 1,axis=1)\n",
    "closest_l1 = np.argsort(norm_l1)\n",
    "closest_l1[1:11]"
   ]
  },
  {
   "cell_type": "code",
   "execution_count": 87,
   "id": "df5d62a8",
   "metadata": {},
   "outputs": [
    {
     "name": "stdout",
     "output_type": "stream",
     "text": [
      "10 similar openings to Old Indian, Ukrainian Variation, 4.Nf3, using L1 norm: Old Indian, Main line (A55), Old Indian (A53), Philidor Defense (C41), English (A21), King's Indian (E61), Queen's Pawn Game (with ...d6) (A41), Benoni Defense (A56), King's Indian, Orthodox, 7...Nbd7, 8.Re1 (E95), English, Three Knights System (A27), King's Indian, Orthodox, 7...Nbd7, Main line (E96)\n"
     ]
    }
   ],
   "source": [
    "#Let's map our findings with their names\n",
    "list_names=list(map(lambda x: df.iloc[x,:0].name, closest_l1[1:11]))\n",
    "list_fullnames=list(map(lambda x: info.loc[info['eco_code'] == x, 'name'].values[0], list_names))\n",
    "print('10 similar openings to Old Indian, Ukrainian Variation, 4.Nf3, using L1 norm:',', '.join(list_fullnames))"
   ]
  },
  {
   "cell_type": "code",
   "execution_count": 88,
   "id": "1fd3f6f8",
   "metadata": {},
   "outputs": [
    {
     "data": {
      "text/plain": [
       "array([177, 306, 325, 170,  69,  96,  60, 375, 373, 173])"
      ]
     },
     "execution_count": 88,
     "metadata": {},
     "output_type": "execute_result"
    }
   ],
   "source": [
    "#We'll count the Euclidian norm (l2) with Numpy function norm()\n",
    "#Sort the results as previously\n",
    "\n",
    "norm_l2 = norm(diff, axis=1)\n",
    "closest_l2=np.argsort(norm_l2)\n",
    "closest_l2[1:11]"
   ]
  },
  {
   "cell_type": "code",
   "execution_count": 89,
   "id": "c23b971c",
   "metadata": {},
   "outputs": [
    {
     "name": "stdout",
     "output_type": "stream",
     "text": [
      "10 similar openings to Old Indian, Ukrainian Variation, 4.Nf3, using L2 norm: Old Indian (A53), Old Indian, Main line (A55), Queen's Pawn Game (with ...d6) (A41), English (A21), Philidor Defense (C41), Budapest Gambit (A51), Queen's Pawn Game (A50), English (A28), English, Three Knights System (A27), English (A20)\n"
     ]
    }
   ],
   "source": [
    "#Let's map our findings with their names\n",
    "list_names_l2=list(map(lambda x: df.iloc[x,:0].name, closest_l2[1:11]))\n",
    "list_fullnames_l2=list(map(lambda x: info.loc[info['eco_code'] == x, 'name'].values[0], list_names_l2))\n",
    "print('10 similar openings to Old Indian, Ukrainian Variation, 4.Nf3, using L2 norm:',', '.join(list_fullnames_l2))"
   ]
  }
 ],
 "metadata": {
  "kernelspec": {
   "display_name": "Python_DS",
   "language": "python",
   "name": "python_ds"
  },
  "language_info": {
   "codemirror_mode": {
    "name": "ipython",
    "version": 3
   },
   "file_extension": ".py",
   "mimetype": "text/x-python",
   "name": "python",
   "nbconvert_exporter": "python",
   "pygments_lexer": "ipython3",
   "version": "3.9.7"
  }
 },
 "nbformat": 4,
 "nbformat_minor": 5
}
